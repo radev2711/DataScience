{
 "cells": [
  {
   "cell_type": "markdown",
   "metadata": {},
   "source": [
    "# Extracting RDF triples from plain text"
   ]
  },
  {
   "cell_type": "markdown",
   "metadata": {},
   "source": [
    "## Inroduction\n",
    "\n",
    "Working on task for creating Linked Open Data using Wikipedia pages led to realization that most of the first sentences of Wikipedia articles often can be distilled to simple statement. For example the descriptor for the Wikipedia itself \"Wikipedia is a free online encyclopedia, created and edited by volunteers around the world and hosted by the Wikimedia Foundation.\" can be read as \"Wikipedia is encyclopedia\" by removing the decorators (adjectives) and leaving nouns (proper and common in the case) and predicate (aux verb). This lead to the hypothesis that RDF triples can be extracted from raw text.\n",
    "\n",
    "This notebook contains the first experiments to test this hypothesis. For this goal the experiments are structured as follows:\n",
    "\n",
    "    - Data collection - three text documents: one fiction, one media (news articles) and one encyclopedic (Wikipedia articles), roughly the same size.\n",
    "    - Data preparation - sentence splitting, tokenization, lemmatization, POS-tagging of the text documents\n",
    "    - Run experiments - using two approaches\n",
    "        * First approach - look for noun -> verb -> noun patterns in sentences\n",
    "        * Second approach - collect all nouns in the text documents. Create a basic predicate set. Loop the noun and predicatesets to generate noun -> verb -> noun patterns\n",
    "        \n",
    "\n",
    "\n",
    "\n",
    "### RDF\n",
    "\n",
    "The Resource Description Framework (RDF) is a framework for expressing information about resources. It is a standard model for data interchange on the Web recommended by World Wide Web Consortium (W3C). RDF provides a common framework for expressing information on the Web so it can be exchanged between applications without loss of meaning. This means that the information may be made available to applications other than those for which it was originally created.\n",
    "\n",
    "RDF is used for series of practices including: adding machine-readable information to Web pages, enriching a dataset by linking it to third-party datasets, interlinking API feeds, putting into work the datasets currently published as Linked Data, building distributed social networks, providing a standards-compliant way for exchanging data between databases, interlinking various datasets and enabling cross-dataset queries with the use of SPARQL.\n",
    "\n",
    "RDF uses International Resource Identifier (IRI) as resource identifies.\n",
    "\n",
    "\n",
    "### RDF Triples\n",
    "\n",
    "RDF allows us to make statements about resources. Due their structure of three elements these statements are called triples. The format of these triples is simple and always has the following structure:\n",
    "\n",
    "    <subject> <predicate> <object>\n",
    "\n",
    "For example:\n",
    "\n",
    "    <Bob> <is a> <person>.\n",
    "    <Bob> <is a friend of> <Alice>.\n",
    "    <Bob> <is born on> <the 4th of July 1990>.\n",
    "\n",
    "The RDF statements expresses a relationship between two resources. The subject and the object represent the two resources being related; the predicate represents the nature of their relationship.\n",
    "\n",
    "### the Turtle Language\n",
    "\n",
    "the Terse RDF Triple Language or simply Turtle allows for the textual representations of an RDF graphs. Turtle introduces a number of syntactic shortcuts, such as support for namespace prefixes, lists and shorthands for datatyped literals. This language provides a trade-off between ease of writing, ease of parsing and readability.\n",
    "\n",
    "Turtle examlpe:\n",
    "\n",
    "    @base <http://example.org/> .\n",
    "    @prefix rdf: <http://www.w3.org/1999/02/22-rdf-syntax-ns#> .\n",
    "    @prefix rdfs: <http://www.w3.org/2000/01/rdf-schema#> .\n",
    "    @prefix foaf: <http://xmlns.com/foaf/0.1/> .\n",
    "    @prefix rel: <http://www.perceive.net/schemas/relationship/> .\n",
    "\n",
    "    <#green-goblin>\n",
    "        rel:enemyOf <#spiderman> ;\n",
    "        a foaf:Person ;    # in the context of the Marvel universe\n",
    "        foaf:name \"Green Goblin\" .\n",
    "\n",
    "    <#spiderman>\n",
    "        rel:enemyOf <#green-goblin> ;\n",
    "        a foaf:Person ;\n",
    "        foaf:name \"Spiderman\", \"Человек-паук\"@ru .\n",
    "\n",
    "This example introduces many of features of the Turtle language: @base and Relative IRI references, @prefix and prefixed names, predicate lists separated by ';', object lists separated by ',', the token a, and literals. Comments may be given after a '#'."
   ]
  },
  {
   "cell_type": "markdown",
   "metadata": {},
   "source": [
    "### Knowledge Graphs\n",
    "\n",
    "Knowedge graphs use the core idea that data/knowledge can be represented in the form of a abstraction upon real-world entities (nodes) and relations between them (edges). Graphs allow for the data and its scope to evolve in a flexible manner. The query languages for graphs support\n",
    "not only standard relational operators (joins, unions, projections, etc.), but also navigational operators.\n",
    "\n",
    "Knowledge graphs are often assembled from various sources and can be highly diverse in terms of structure and granularity as a result. With the use of schemas, which define a high-level structure for the graphs, and context, which indicates in what setting some unit of knowledge is held true. Knowledge graph to grow and improve over time with the use of methods like extraction, enrichment, quality assessment and refinement.\n",
    "\n",
    "Knowledge can be stored in the graphs as simple statements, such as “Sofia is the capital of Bulgaria” and “all capitals are cities”. Later deductive and inductive methods can be implemented to accumulate further knowledge: if Sofia is capital and capital is city ergo “Sofia is a city”."
   ]
  },
  {
   "cell_type": "markdown",
   "metadata": {},
   "source": [
    "## Data"
   ]
  },
  {
   "cell_type": "markdown",
   "metadata": {},
   "source": [
    "To install spaCy run \"conda install -c conda-forge spacy\" and then \"python -m spacy download en_core_web_sm\" in the anaconda terminal"
   ]
  },
  {
   "cell_type": "code",
   "execution_count": 100,
   "metadata": {},
   "outputs": [],
   "source": [
    "import spacy\n",
    "from nltk import word_tokenize, sent_tokenize, pos_tag\n",
    "from nltk.stem import WordNetLemmatizer\n",
    "from nltk import download as nltk_down\n",
    "import re\n",
    "import networkx as nx\n",
    "import matplotlib.pyplot as plt"
   ]
  },
  {
   "cell_type": "markdown",
   "metadata": {},
   "source": [
    "### Input\n",
    "\n",
    "The data consists of three documents:\n",
    "- fiction text - The Phoenix on the Sword by Robert E. Howard available via [Project Gutenberg of Australia](http://www.gutenberg.net.au/ebooks06/0600811h.html).\n",
    "- media text - 14 articles from Reuters and DW, all from 02.08.2023.\n",
    "- enciclopedic text - around 30 Wikipedia articles from different domains: Biology, Geography, Physics and Chemistry."
   ]
  },
  {
   "cell_type": "markdown",
   "metadata": {},
   "source": [
    "Let's make a function that loads our files."
   ]
  },
  {
   "cell_type": "code",
   "execution_count": 2,
   "metadata": {},
   "outputs": [],
   "source": [
    "def load_input_file(file):\n",
    "    text = ''\n",
    "    with open(file, 'r', encoding='utf-8-sig') as input_file:\n",
    "        text = input_file.read()\n",
    "    return text"
   ]
  },
  {
   "cell_type": "markdown",
   "metadata": {},
   "source": [
    "After loading the text documents we can see the number of characters in each document or some regular expressions to measure the size of the documents in words. The word count should be similar for each of the documents."
   ]
  },
  {
   "cell_type": "code",
   "execution_count": 3,
   "metadata": {},
   "outputs": [],
   "source": [
    "fiction_text = load_input_file('data/conan.txt')\n",
    "fiction_words = re.split(\"\\W+\", fiction_text)"
   ]
  },
  {
   "cell_type": "code",
   "execution_count": 4,
   "metadata": {},
   "outputs": [],
   "source": [
    "media_text = load_input_file('data/media.txt')\n",
    "media_words = re.split(\"\\W+\", media_text)"
   ]
  },
  {
   "cell_type": "code",
   "execution_count": 5,
   "metadata": {},
   "outputs": [],
   "source": [
    "wiki_text = load_input_file('data/wiki.txt')\n",
    "wiki_words = re.split(\"\\W+\", wiki_text)"
   ]
  },
  {
   "cell_type": "code",
   "execution_count": 6,
   "metadata": {},
   "outputs": [
    {
     "name": "stdout",
     "output_type": "stream",
     "text": [
      "Character counts: fiction - 50253, media - 57779, wiki - 63848\n",
      "RE word counts: fiction - 9186, media - 9597, wiki - 10219\n"
     ]
    }
   ],
   "source": [
    "print(f\"Character counts: fiction - {len(fiction_text)}, media - {len(media_text)}, wiki - {len(wiki_text)}\")\n",
    "print(f\"RE word counts: fiction - {len(fiction_words)}, media - {len(media_words)}, wiki - {len(wiki_words)}\")"
   ]
  },
  {
   "cell_type": "markdown",
   "metadata": {},
   "source": [
    "Character counts are not very informative and matching with regular expressions is prone to errors. For text processing is better to look for sentences and words. This can be done wit the help of NLTK and spaCy libraries. They can apply the processes of sentence splitting and tokenization (taking a text or sentence and splitting it into individual units called tokens)."
   ]
  },
  {
   "cell_type": "code",
   "execution_count": 7,
   "metadata": {},
   "outputs": [],
   "source": [
    "fiction_tokens = word_tokenize(fiction_text)\n",
    "media_tokens = word_tokenize(media_text)\n",
    "wiki_tokens = word_tokenize(wiki_text)"
   ]
  },
  {
   "cell_type": "code",
   "execution_count": 8,
   "metadata": {},
   "outputs": [],
   "source": [
    "nltk_counts = f\"NLTK word counts: fiction - {len(fiction_tokens)}, media - {len(media_tokens)}, wiki - {len(wiki_tokens)}\""
   ]
  },
  {
   "cell_type": "markdown",
   "metadata": {},
   "source": [
    "Ok, the there is a difference. Maybe an arbiter will help. What will spaCy count.\n",
    "First load the model, then make the document and see the tokens."
   ]
  },
  {
   "cell_type": "code",
   "execution_count": 9,
   "metadata": {},
   "outputs": [],
   "source": [
    "nlp = spacy.load(\"en_core_web_sm\")"
   ]
  },
  {
   "cell_type": "code",
   "execution_count": 10,
   "metadata": {},
   "outputs": [],
   "source": [
    "fiction_doc = nlp(fiction_text)\n",
    "media_doc = nlp(media_text)\n",
    "wiki_doc = nlp(wiki_text)"
   ]
  },
  {
   "cell_type": "code",
   "execution_count": 11,
   "metadata": {},
   "outputs": [
    {
     "name": "stdout",
     "output_type": "stream",
     "text": [
      "spaCy word counts: fiction - 11041, media - 11206, wiki - 11897\n",
      "NLTK word counts: fiction - 10585, media - 10728, wiki - 11586\n"
     ]
    }
   ],
   "source": [
    "spacy_counts = f\"spaCy word counts: fiction - {len(fiction_doc)}, media - {len(media_doc)}, wiki - {len(wiki_doc)}\"\n",
    "print(spacy_counts)\n",
    "print(nltk_counts)"
   ]
  },
  {
   "cell_type": "markdown",
   "metadata": {},
   "source": [
    "It seem that NLTK and spaCy tokenizers are producing different token counts. Lets see the outputs:"
   ]
  },
  {
   "cell_type": "code",
   "execution_count": 12,
   "metadata": {},
   "outputs": [],
   "source": [
    "nltk_result = []\n",
    "for nltk_token in wiki_tokens[:20]:\n",
    "    nltk_result.append(nltk_token)\n",
    "\n",
    "spacy_result = []\n",
    "for spacy_token in wiki_doc[:20]:\n",
    "    spacy_result.append(spacy_token)\n"
   ]
  },
  {
   "cell_type": "code",
   "execution_count": 13,
   "metadata": {},
   "outputs": [
    {
     "name": "stdout",
     "output_type": "stream",
     "text": [
      "['Turtles', 'are', 'an', 'order', 'of', 'reptiles', 'known', 'as', 'Testudines', ',', 'characterized', 'by', 'a', 'shell', 'developed', 'mainly', 'from', 'their', 'ribs', '.']\n",
      "[Turtles, are, an, order, of, reptiles, known, as, Testudines, ,, characterized, by, a, shell, developed, mainly, from, their, ribs, .]\n"
     ]
    }
   ],
   "source": [
    "print(nltk_result)\n",
    "print(spacy_result)"
   ]
  },
  {
   "cell_type": "markdown",
   "metadata": {},
   "source": [
    "This looks fine. Lets try with the number of sentences."
   ]
  },
  {
   "cell_type": "code",
   "execution_count": 14,
   "metadata": {},
   "outputs": [],
   "source": [
    "fiction_sents = sent_tokenize(fiction_text)\n",
    "media_sents = sent_tokenize(media_text)\n",
    "wiki_sents = sent_tokenize(wiki_text)"
   ]
  },
  {
   "cell_type": "code",
   "execution_count": 15,
   "metadata": {},
   "outputs": [],
   "source": [
    "nltk_sentences = f\"NLTK sentence counts: fiction - {len(fiction_sents)}, media - {len(media_sents)}, wiki - {len(wiki_sents)}\""
   ]
  },
  {
   "cell_type": "code",
   "execution_count": 16,
   "metadata": {},
   "outputs": [],
   "source": [
    "fiction_spacy_sent = list(fiction_doc.sents)\n",
    "media_spacy_sent = list(media_doc.sents)\n",
    "wiki_spacy_sent = list(wiki_doc.sents)"
   ]
  },
  {
   "cell_type": "code",
   "execution_count": 17,
   "metadata": {},
   "outputs": [],
   "source": [
    "spacy_sentences = f\"spaCy sentence counts: fiction - {len(fiction_spacy_sent)}, media - {len(media_spacy_sent)}, wiki - {len(wiki_spacy_sent)}\""
   ]
  },
  {
   "cell_type": "code",
   "execution_count": 18,
   "metadata": {},
   "outputs": [
    {
     "name": "stdout",
     "output_type": "stream",
     "text": [
      "NLTK sentence counts: fiction - 565, media - 433, wiki - 486\n",
      "spaCy sentence counts: fiction - 527, media - 434, wiki - 485\n"
     ]
    }
   ],
   "source": [
    "print(nltk_sentences)\n",
    "print(spacy_sentences)"
   ]
  },
  {
   "cell_type": "markdown",
   "metadata": {},
   "source": [
    "Close enough. It seems that the splitters disagree most in the fiction document."
   ]
  },
  {
   "cell_type": "markdown",
   "metadata": {},
   "source": [
    "### Preprocessing\n",
    "\n",
    "For the purposes of the experiments the text will need to be separated into sentences and tokes. Then the tokens will need to be lemmatized and recieve part-of-speech-tags.\n",
    "\n",
    "Lemmatisation is the process of grouping together the inflected forms of a word so they can be analysed as a single item and Part-of-speech (POS) tagging is the assignment of part-of-speech tags to words.\n",
    "\n",
    "Trying to measure the size of the documents the separation work is done. NLTK does lemmatization and POS-tagging via separate methods while spaCy does all at doc creation.\n",
    "\n",
    "Lets begin with NLTK lemmatization.\n"
   ]
  },
  {
   "cell_type": "code",
   "execution_count": 19,
   "metadata": {},
   "outputs": [],
   "source": [
    "# load once for lemmatizer to work\n",
    "#nltk_down('omw-1.4')"
   ]
  },
  {
   "cell_type": "markdown",
   "metadata": {},
   "source": [
    "Start by creating a function that takes the tokens and utilizes a lemmatizer from NLTK. The WordNet one is recommended, but other are available. "
   ]
  },
  {
   "cell_type": "code",
   "execution_count": 20,
   "metadata": {},
   "outputs": [],
   "source": [
    "lemmatizer = WordNetLemmatizer()\n",
    "\n",
    "def lematize_tokens(tokens):\n",
    "    lemmas = []\n",
    "\n",
    "    for token in tokens:\n",
    "        lemmetized_word = lemmatizer.lemmatize(token)\n",
    "        lemmas.append(lemmetized_word)\n",
    "\n",
    "    return lemmas"
   ]
  },
  {
   "cell_type": "markdown",
   "metadata": {},
   "source": [
    "Lematize the texts."
   ]
  },
  {
   "cell_type": "code",
   "execution_count": 21,
   "metadata": {},
   "outputs": [],
   "source": [
    "fiction_lemmas = lematize_tokens(fiction_tokens)\n",
    "media_lemmas = lematize_tokens(media_tokens)\n",
    "wiki_lemmas = lematize_tokens(wiki_tokens)"
   ]
  },
  {
   "cell_type": "markdown",
   "metadata": {},
   "source": [
    "Implement POS-tagging to the lemmatized texts."
   ]
  },
  {
   "cell_type": "code",
   "execution_count": 22,
   "metadata": {},
   "outputs": [],
   "source": [
    "fiction_pos = pos_tag(fiction_lemmas)\n",
    "media_pos = pos_tag(media_lemmas)\n",
    "wiki_pos = pos_tag(wiki_lemmas)"
   ]
  },
  {
   "cell_type": "markdown",
   "metadata": {},
   "source": [
    "Check results."
   ]
  },
  {
   "cell_type": "code",
   "execution_count": 23,
   "metadata": {},
   "outputs": [
    {
     "data": {
      "text/plain": [
       "[('HONG', 'NNP'),\n",
       " ('KONG/BEIJING', 'NNP'),\n",
       " (',', ','),\n",
       " ('Aug', 'NNP'),\n",
       " ('2', 'CD'),\n",
       " ('(', '('),\n",
       " ('Reuters', 'NNPS'),\n",
       " (')', ')'),\n",
       " ('-', ':'),\n",
       " ('Some', 'DT'),\n",
       " ('Chinese', 'JJ'),\n",
       " ('city', 'NN'),\n",
       " ('government', 'NN'),\n",
       " ('have', 'VBP'),\n",
       " ('made', 'VBN'),\n",
       " ('it', 'PRP'),\n",
       " ('harder', 'JJR'),\n",
       " ('for', 'IN'),\n",
       " ('developer', 'NN'),\n",
       " ('to', 'TO')]"
      ]
     },
     "execution_count": 23,
     "metadata": {},
     "output_type": "execute_result"
    }
   ],
   "source": [
    "media_pos[:20]"
   ]
  },
  {
   "cell_type": "markdown",
   "metadata": {},
   "source": [
    "This should do it. Now to proceed with the triple extraction."
   ]
  },
  {
   "cell_type": "markdown",
   "metadata": {},
   "source": [
    "## Extracting and Generating Triples"
   ]
  },
  {
   "cell_type": "markdown",
   "metadata": {},
   "source": [
    "NLTK and spaCy behave differently so they will be implemented separately and their results will be compared."
   ]
  },
  {
   "cell_type": "markdown",
   "metadata": {},
   "source": [
    "### Extracting Triples\n",
    "\n",
    "From the text. Look for target predicates. Look for nouns before and after the predicate."
   ]
  },
  {
   "cell_type": "markdown",
   "metadata": {},
   "source": [
    "Pack the logic in a function."
   ]
  },
  {
   "cell_type": "code",
   "execution_count": 24,
   "metadata": {},
   "outputs": [],
   "source": [
    "def nltk_extract_triples(pos_tokens):\n",
    "    nltk_triples = []\n",
    "\n",
    "    for idx, tup in enumerate(pos_tokens):\n",
    "        if tup[0] in ['is', 'are', 'have', 'can']:\n",
    "            predicate = tup[0]\n",
    "            subj = ''\n",
    "            obj = ''\n",
    "            \n",
    "            for i in range(idx, -1, -1):\n",
    "                if pos_tokens[i][1].startswith('NN'):\n",
    "                    subj = pos_tokens[i][0]\n",
    "                    break\n",
    "            for j in range(idx, len(pos_tokens)):\n",
    "                if pos_tokens[j][1].startswith('NN'):\n",
    "                    obj = pos_tokens[j][0]\n",
    "                    break\n",
    "\n",
    "            triple = f\"{subj.lower()} {predicate} {obj.lower()}\"\n",
    "            nltk_triples.append(triple)\n",
    "\n",
    "    return nltk_triples"
   ]
  },
  {
   "cell_type": "markdown",
   "metadata": {},
   "source": [
    "Run the function with texts."
   ]
  },
  {
   "cell_type": "code",
   "execution_count": 25,
   "metadata": {},
   "outputs": [],
   "source": [
    "fiction_triples_nltk = nltk_extract_triples(fiction_pos)\n",
    "media_triples_nltk = nltk_extract_triples(media_pos)\n",
    "wiki_triples_nltk = nltk_extract_triples(wiki_pos)"
   ]
  },
  {
   "cell_type": "markdown",
   "metadata": {},
   "source": [
    "Check results."
   ]
  },
  {
   "cell_type": "code",
   "execution_count": 26,
   "metadata": {},
   "outputs": [
    {
     "name": "stdout",
     "output_type": "stream",
     "text": [
      "391\n"
     ]
    },
    {
     "data": {
      "text/plain": [
       "['turtles are order',\n",
       " 'turtle are group',\n",
       " 'head are living',\n",
       " 'terrapin are continent',\n",
       " 'shell are bone',\n",
       " 'part is carapace',\n",
       " 'underside is flatter',\n",
       " 'surface is scale',\n",
       " 'turtles are temperature',\n",
       " 'environment are omnivore',\n",
       " 'turtle are reptile',\n",
       " 'turtles have myth',\n",
       " 'specie are pet',\n",
       " 'turtles have meat',\n",
       " 'turtle are bycatch',\n",
       " 'world are result',\n",
       " 'specie are extinction',\n",
       " 'hedgehog is mammal',\n",
       " 'erinaceidae are specie',\n",
       " 'introduction are australia']"
      ]
     },
     "execution_count": 26,
     "metadata": {},
     "output_type": "execute_result"
    }
   ],
   "source": [
    "print(len(wiki_triples_nltk))\n",
    "wiki_triples_nltk[:20]"
   ]
  },
  {
   "cell_type": "markdown",
   "metadata": {},
   "source": [
    "Repeat the process for spaCy."
   ]
  },
  {
   "cell_type": "code",
   "execution_count": 27,
   "metadata": {},
   "outputs": [],
   "source": [
    "def spacy_extract_triples(document):\n",
    "    spacy_triples = []\n",
    "\n",
    "    for token in document:\n",
    "        if token.lemma_ in ['be', 'have', 'can']:\n",
    "            idx = token.i\n",
    "            predicate = token\n",
    "            subj = ''\n",
    "            obj = ''\n",
    "\n",
    "            for i in range(idx, -1, -1):\n",
    "                if document[i].pos_ == \"NOUN\":\n",
    "                    subj = document[i].lemma_\n",
    "                    break\n",
    "            for j in range(idx, len(document)):\n",
    "                if document[j].pos_ == \"NOUN\":\n",
    "                    obj = document[j].lemma_\n",
    "                    break\n",
    "\n",
    "            triple = f\"{subj} {predicate} {obj}\"\n",
    "            spacy_triples.append(triple)\n",
    "\n",
    "    return spacy_triples"
   ]
  },
  {
   "cell_type": "code",
   "execution_count": 28,
   "metadata": {},
   "outputs": [],
   "source": [
    "fiction_triples_spacy = spacy_extract_triples(fiction_doc)\n",
    "media_triples_spacy = spacy_extract_triples(media_doc)\n",
    "wiki_triples_spacy = spacy_extract_triples(wiki_doc)"
   ]
  },
  {
   "cell_type": "code",
   "execution_count": 29,
   "metadata": {},
   "outputs": [
    {
     "name": "stdout",
     "output_type": "stream",
     "text": [
      "533\n"
     ]
    },
    {
     "data": {
      "text/plain": [
       "['turtle are order',\n",
       " 'turtle are group',\n",
       " 'head are living',\n",
       " 'terrapin are continent',\n",
       " 'shell are bone',\n",
       " 'part is carapace',\n",
       " 'underside is plastron',\n",
       " 'surface is scale',\n",
       " 'turtle are ectotherm',\n",
       " 'environment are omnivore',\n",
       " 'turtle are reptile',\n",
       " 'turtle have myth',\n",
       " 'specie are pet',\n",
       " 'turtle have meat',\n",
       " 'turtle been meat',\n",
       " 'turtle are bycatch',\n",
       " 'world are result',\n",
       " 'world being result',\n",
       " 'specie are extinction',\n",
       " 'hedgehog is mammal']"
      ]
     },
     "execution_count": 29,
     "metadata": {},
     "output_type": "execute_result"
    }
   ],
   "source": [
    "print(len(wiki_triples_spacy))\n",
    "wiki_triples_spacy[:20]"
   ]
  },
  {
   "cell_type": "markdown",
   "metadata": {},
   "source": [
    "Comparison of the number and a sample of the extracted triples between NLTK and spaCy:"
   ]
  },
  {
   "cell_type": "code",
   "execution_count": 30,
   "metadata": {},
   "outputs": [
    {
     "name": "stdout",
     "output_type": "stream",
     "text": [
      "99\n",
      "['dupe have street', 'desert have heart', 'night have agent', 'agent have face', 'face have empire', 'shadow have downfall', 'task is wit', 'task are wit', 'deed is people', 'reign is people']\n",
      "333\n",
      "['rise was age', 'world was supreme', 'countenance was door', 'hand was giant', 'dupe have street', 'desert have heart', 'desert been heart', 'night have noble', 'agent have face', 'face have empire']\n"
     ]
    }
   ],
   "source": [
    "print(len(fiction_triples_nltk))\n",
    "print(fiction_triples_nltk[:10])\n",
    "print(len(fiction_triples_spacy))\n",
    "print(fiction_triples_spacy[:10])\n"
   ]
  },
  {
   "cell_type": "code",
   "execution_count": 31,
   "metadata": {},
   "outputs": [
    {
     "name": "stdout",
     "output_type": "stream",
     "text": [
      "199\n",
      "['government have developer', 'move are completion', 'sale are future', 'sector is tightening', 'project can developer', 'project is developer', 'developer have crisis', 'sector have capital', 'efficiency can credit', 'developer are project']\n",
      "440\n",
      "['government have developer', 'company be move', 'move are completion', 'sale are future', 'sector is tightening', 'government has help', 'sector has year', 'sector been year', \"demand 's dilemma\", 'project can developer']\n"
     ]
    }
   ],
   "source": [
    "print(len(media_triples_nltk))\n",
    "print(media_triples_nltk[:10])\n",
    "print(len(media_triples_spacy))\n",
    "print(media_triples_spacy[:10])"
   ]
  },
  {
   "cell_type": "code",
   "execution_count": 32,
   "metadata": {},
   "outputs": [
    {
     "name": "stdout",
     "output_type": "stream",
     "text": [
      "391\n",
      "['turtles are order', 'turtle are group', 'head are living', 'terrapin are continent', 'shell are bone', 'part is carapace', 'underside is flatter', 'surface is scale', 'turtles are temperature', 'environment are omnivore']\n",
      "533\n",
      "['turtle are order', 'turtle are group', 'head are living', 'terrapin are continent', 'shell are bone', 'part is carapace', 'underside is plastron', 'surface is scale', 'turtle are ectotherm', 'environment are omnivore']\n"
     ]
    }
   ],
   "source": [
    "print(len(wiki_triples_nltk))\n",
    "print(wiki_triples_nltk[:10])\n",
    "print(len(wiki_triples_spacy))\n",
    "print(wiki_triples_spacy[:10])"
   ]
  },
  {
   "cell_type": "markdown",
   "metadata": {},
   "source": [
    "The results show some overlap and few discrepances. Sets can be used to make the differences visible."
   ]
  },
  {
   "cell_type": "code",
   "execution_count": 33,
   "metadata": {},
   "outputs": [],
   "source": [
    "fiction_diff = set(fiction_triples_nltk) - set(fiction_triples_spacy)\n",
    "media_diff = set(media_triples_nltk) - set(media_triples_spacy)\n",
    "wiki_diff = set(wiki_triples_nltk) - set(wiki_triples_spacy)"
   ]
  },
  {
   "cell_type": "code",
   "execution_count": 34,
   "metadata": {},
   "outputs": [
    {
     "name": "stdout",
     "output_type": "stream",
     "text": [
      "53\n"
     ]
    },
    {
     "data": {
      "text/plain": [
       "{'ah is ring',\n",
       " 'ancient is men',\n",
       " 'ascalante can conan',\n",
       " 'ascalante can well',\n",
       " 'ascalante is city',\n",
       " 'back are be',\n",
       " 'bossonians have aid',\n",
       " 'cimmeria are goblet',\n",
       " 'cimmeria is war',\n",
       " 'commander is ascalante',\n",
       " 'conan can power',\n",
       " 'conan is power',\n",
       " 'country have conan',\n",
       " 'darkness have material',\n",
       " 'destiny is aquilonia',\n",
       " 'eye is something',\n",
       " 'foreigner can mitra',\n",
       " 'gigantic are web',\n",
       " 'god are crom',\n",
       " 'god is ymir',\n",
       " 'golamira is mysteries',\n",
       " 'grass is unrest',\n",
       " 'high-priests is word',\n",
       " 'king is conan',\n",
       " 'king is feet—and—',\n",
       " 'land is cimmeria',\n",
       " 'luck can volmana',\n",
       " 'luck have volmana',\n",
       " 'man have conan',\n",
       " 'men are folk',\n",
       " 'men are world',\n",
       " 'men is set',\n",
       " 'neophyte is power',\n",
       " 'night are a',\n",
       " 'night are prospero',\n",
       " 'night have agent',\n",
       " 'north are faulty',\n",
       " 'people are black',\n",
       " 'picts have so',\n",
       " 'plot can ascalante',\n",
       " 'poets—who is ascalante',\n",
       " 'poitainian are part',\n",
       " 'publius can poets—who',\n",
       " 'rinaldo is prospero',\n",
       " 'rinaldo is torch',\n",
       " 'slumber have conan',\n",
       " 'stand can epemitreus',\n",
       " 'state have peer',\n",
       " 'stylus have publius',\n",
       " 'sword is numedides',\n",
       " 'swordsman have urge',\n",
       " 'sword—it is sign',\n",
       " 'talk is dion'}"
      ]
     },
     "execution_count": 34,
     "metadata": {},
     "output_type": "execute_result"
    }
   ],
   "source": [
    "print(len(fiction_diff))\n",
    "fiction_diff"
   ]
  },
  {
   "cell_type": "code",
   "execution_count": 35,
   "metadata": {},
   "outputs": [
    {
     "name": "stdout",
     "output_type": "stream",
     "text": [
      "76\n"
     ]
    },
    {
     "data": {
      "text/plain": [
       "{'africa is home',\n",
       " 'arms have protest',\n",
       " 'arrangement is december',\n",
       " 'battle is war',\n",
       " 'brother is pro-overhaul',\n",
       " 'caicedo have expectation',\n",
       " 'caicedo is football',\n",
       " 'canteen can share',\n",
       " 'change is alternative',\n",
       " 'china have way',\n",
       " 'china is devastation',\n",
       " 'china is energy',\n",
       " 'colombians are colombians',\n",
       " 'company is semtex',\n",
       " 'country have celsius',\n",
       " 'court are israel',\n",
       " 'demand is china',\n",
       " 'ecowas have sahel',\n",
       " 'energy is kenya',\n",
       " 'eu is economy',\n",
       " 'eu is philippines',\n",
       " 'eu is trade',\n",
       " 'everything are lot',\n",
       " 'fahrenheit are degree',\n",
       " 'faso have government',\n",
       " 'february is von',\n",
       " 'football are caicedo',\n",
       " 'fund have source',\n",
       " 'game have hospitals',\n",
       " 'germany is one',\n",
       " 'germany is —',\n",
       " 'government is sos',\n",
       " 'hospitals have alert',\n",
       " 'hynek have population',\n",
       " 'indo-pacific are cooperation',\n",
       " 'industry are thanks',\n",
       " 'iran are desert',\n",
       " 'island is khanun',\n",
       " 'issue is arm',\n",
       " 'japan have typhoon',\n",
       " 'kenya have source',\n",
       " 'kenya is energy',\n",
       " 'kenya is game-changer',\n",
       " 'krämer is improvement',\n",
       " 'march have attention',\n",
       " 'movement is israel',\n",
       " 'nasa have october',\n",
       " 'niger is ecowas',\n",
       " 'off-kilter is time',\n",
       " 'option are eemshaven',\n",
       " 'parliament have access',\n",
       " 'port have port',\n",
       " 'problem are germany',\n",
       " 'production are germany',\n",
       " 'putschists have niger',\n",
       " 'ranger have incentive',\n",
       " 'republic are program',\n",
       " 'republic have year',\n",
       " 'reuters is cooperation',\n",
       " 'sahel have challenge',\n",
       " 'situation is commerzbank',\n",
       " 'spacecraft have uranus',\n",
       " 'spacecraft is operating',\n",
       " 'spain have neighbor',\n",
       " 'stadium have home',\n",
       " 'standing are moment',\n",
       " 'think are day',\n",
       " 'try have fun',\n",
       " 'voyager is kilometer',\n",
       " 'voyager is spacecraft',\n",
       " 'voyager is star',\n",
       " 'year have bare',\n",
       " '– is employee',\n",
       " '— are march',\n",
       " '— is franc',\n",
       " '— is reason'}"
      ]
     },
     "execution_count": 35,
     "metadata": {},
     "output_type": "execute_result"
    }
   ],
   "source": [
    "print(len(media_diff))\n",
    "media_diff"
   ]
  },
  {
   "cell_type": "code",
   "execution_count": 36,
   "metadata": {},
   "outputs": [
    {
     "name": "stdout",
     "output_type": "stream",
     "text": [
      "162\n"
     ]
    },
    {
     "data": {
      "text/plain": [
       "{\"'neck is piece\",\n",
       " 'acer is genus',\n",
       " 'america is ulsd',\n",
       " 'apples have significance',\n",
       " 'apples have thousand',\n",
       " 'asia is yew',\n",
       " 'asterism are definition',\n",
       " 'astronomers can mass',\n",
       " 'astronomers have star',\n",
       " 'average are parrot',\n",
       " 'b have earth',\n",
       " 'berries—they are ingredient',\n",
       " 'bike is combustion',\n",
       " 'blue is water',\n",
       " 'branch is genus',\n",
       " 'breeze can gasoline',\n",
       " 'caballus is mammal',\n",
       " 'canals are isthmus',\n",
       " 'car are le',\n",
       " 'cars have control',\n",
       " 'cattle are africa',\n",
       " 'cattle are europe',\n",
       " 'cattle are india',\n",
       " 'cattle are livestock',\n",
       " 'cattle are source',\n",
       " 'chemical are chemical',\n",
       " 'chemist have science',\n",
       " 'climate is cooler',\n",
       " 'cockatoos are bird',\n",
       " 'cockatoos are crest',\n",
       " 'cockatoos are hollow',\n",
       " 'constellation are aratus',\n",
       " 'continue is plastic',\n",
       " 'cvt is transmission',\n",
       " 'cycle is vehicle',\n",
       " 'difference is δ',\n",
       " 'domestication have bc',\n",
       " 'domestication is bc',\n",
       " 'earth are city',\n",
       " 'earth have mass',\n",
       " 'earth is mount',\n",
       " 'earth is sun',\n",
       " 'engine is rating',\n",
       " 'equidae is subspecies',\n",
       " 'erinaceidae are specie',\n",
       " 'europe are breed',\n",
       " 'example is gulf',\n",
       " 'example is lima',\n",
       " 'example is welland',\n",
       " 'exoplanets have zone',\n",
       " 'fao are cattle',\n",
       " 'force is understood',\n",
       " 'fruit are prone',\n",
       " 'fuel is en',\n",
       " 'fuel is fuel',\n",
       " 'gasoline can environment',\n",
       " 'gazole is fuel',\n",
       " 'gear is teeth',\n",
       " 'genus is sycamore',\n",
       " 'habitat are determinate',\n",
       " 'height are stem',\n",
       " 'height have stem',\n",
       " 'horses are predator',\n",
       " 'i.e are meteoroid',\n",
       " 'ice is sheet',\n",
       " 'indonesia is solar',\n",
       " 'introduction are australia',\n",
       " 'land is thinner',\n",
       " 'language is rivers',\n",
       " 'latin is part',\n",
       " 'lens can image',\n",
       " 'lenses are device',\n",
       " 'lenses are material',\n",
       " 'level are earth',\n",
       " 'light are lens',\n",
       " 'london are point',\n",
       " 'maple have palmate',\n",
       " 'mass is change',\n",
       " 'mercury have satellite',\n",
       " 'mercury is share',\n",
       " 'meshing have shape',\n",
       " 'meteors have percent',\n",
       " 'moon can eye',\n",
       " 'mountains are force',\n",
       " 'nebula are dense',\n",
       " 'nebula are star',\n",
       " 'nebula are t',\n",
       " 'nebula can density',\n",
       " 'nebula have density',\n",
       " 'nebulae are region',\n",
       " 'nylon is designation',\n",
       " 'nylon is thermoplastic',\n",
       " 'ocean are pattern',\n",
       " 'ocean are water',\n",
       " 'ocean can tsunami',\n",
       " 'oil are diesel',\n",
       " 'oil are petroleum',\n",
       " 'oil is us',\n",
       " 'others are exposure',\n",
       " 'others can exposure',\n",
       " 'others have glacier',\n",
       " 'particle is state',\n",
       " 'patagonia have expanse',\n",
       " 'petrol is transparent',\n",
       " 'petroleum can fiber',\n",
       " 'planet is movement',\n",
       " 'planets have association',\n",
       " 'plant are habitat',\n",
       " 'plant are height',\n",
       " 'plastic are chemical',\n",
       " 'plastic are ground',\n",
       " 'plastic are ha',\n",
       " 'plastic have ha',\n",
       " 'plastics are range',\n",
       " 'plastics are system',\n",
       " 'plateau can monsoon',\n",
       " 'plateau have top',\n",
       " 'plateaus are surrounding',\n",
       " 'plumage is colourful',\n",
       " 'point can build-up',\n",
       " 'porcupine are type',\n",
       " 'qfd is force',\n",
       " 'river is flowing',\n",
       " 'rivers are feature',\n",
       " 'rivers are part',\n",
       " 'rootstocks are speed',\n",
       " 'sapindaceae are specie',\n",
       " 'sea have ancient',\n",
       " 'sea is section',\n",
       " 'seawater is chloride',\n",
       " 'sieversii is today',\n",
       " 'size are diameter',\n",
       " 'specie are asia',\n",
       " 'specie have loss',\n",
       " 'specie is asia',\n",
       " 'springs are surface',\n",
       " 'springs have source',\n",
       " 'stars can part',\n",
       " 'stars can system',\n",
       " 'subspecies are breed',\n",
       " 'subspecies are population',\n",
       " 'system are size',\n",
       " 'system is olympus',\n",
       " 'tides have range',\n",
       " 'tomato are berries—they',\n",
       " 'tomatoes are source',\n",
       " 'transition is matter',\n",
       " 'tsunami can landslide',\n",
       " 'turtles are order',\n",
       " 'turtles are temperature',\n",
       " 'turtles have meat',\n",
       " 'turtles have myth',\n",
       " 'ulsd is fuel',\n",
       " 'underside is flatter',\n",
       " 'usage is china',\n",
       " 'use is derv',\n",
       " 'visibility is ram',\n",
       " 'year is year',\n",
       " 'yew is part',\n",
       " 'yew is specie',\n",
       " 'zealand is isthmus',\n",
       " 'zebu are pet'}"
      ]
     },
     "execution_count": 36,
     "metadata": {},
     "output_type": "execute_result"
    }
   ],
   "source": [
    "print(len(wiki_diff))\n",
    "wiki_diff"
   ]
  },
  {
   "cell_type": "markdown",
   "metadata": {},
   "source": [
    "Both NLTK and spacy tokenizers and lemmatizers are not errorless.\n",
    "\n",
    "The difference of lemmatization leads to strange behavior of the aux verbs. It is possible that behavior to be the reason for spaCy extractor to produce that much more triples. \n",
    "\n",
    "The NLTK preprocessing marked a lone dash as noun."
   ]
  },
  {
   "cell_type": "markdown",
   "metadata": {},
   "source": [
    "### Generating Triples\n",
    "\n",
    "Lets try to generate some more triples. It is possible to use a similar approach as the extraction. \n",
    "\n",
    "First step will be the extraction of all nouns in the texts, the a set of the same predicates will be added. Finally every noun will be mached with every predicate as subject and object."
   ]
  },
  {
   "cell_type": "code",
   "execution_count": 37,
   "metadata": {},
   "outputs": [],
   "source": [
    "def collect_nouns_nltk(pos_tokens):\n",
    "    nouns = set()\n",
    "    for lemma, pos_tag in pos_tokens:\n",
    "        if pos_tag.startswith('NN'):\n",
    "            nouns.add(lemma.lower())\n",
    "    return nouns"
   ]
  },
  {
   "cell_type": "code",
   "execution_count": 38,
   "metadata": {},
   "outputs": [],
   "source": [
    "fiction_nouns_nltk = collect_nouns_nltk(fiction_pos)\n",
    "media_nouns_nltk = collect_nouns_nltk(media_pos)\n",
    "wiki_nouns_nltk = collect_nouns_nltk(wiki_pos)"
   ]
  },
  {
   "cell_type": "code",
   "execution_count": 39,
   "metadata": {},
   "outputs": [
    {
     "name": "stdout",
     "output_type": "stream",
     "text": [
      "1036\n"
     ]
    },
    {
     "data": {
      "text/plain": [
       "['kings',\n",
       " 'smooth',\n",
       " 'door',\n",
       " 'prospero',\n",
       " 'whole',\n",
       " 'swordsman',\n",
       " 'helmet',\n",
       " 'statesman',\n",
       " 'blind',\n",
       " 'dawn',\n",
       " 'assail—thanks',\n",
       " 'action',\n",
       " 'way',\n",
       " 'valley',\n",
       " 'leather',\n",
       " 'rushing',\n",
       " 'volmana',\n",
       " 'see',\n",
       " 'resting-place',\n",
       " 'housetop']"
      ]
     },
     "execution_count": 39,
     "metadata": {},
     "output_type": "execute_result"
    }
   ],
   "source": [
    "print(len(fiction_nouns_nltk))\n",
    "list(fiction_nouns_nltk)[:20]"
   ]
  },
  {
   "cell_type": "code",
   "execution_count": 40,
   "metadata": {},
   "outputs": [],
   "source": [
    "def collect_nouns_spacy(document):\n",
    "    nouns = set()\n",
    "    for token in document:\n",
    "        if token.pos_ == \"NOUN\":\n",
    "            nouns.add(token.lemma_)\n",
    "    return nouns"
   ]
  },
  {
   "cell_type": "code",
   "execution_count": 41,
   "metadata": {},
   "outputs": [],
   "source": [
    "fiction_nouns_spacy = collect_nouns_spacy(fiction_doc)\n",
    "media_nouns_spacy = collect_nouns_spacy(media_doc)\n",
    "wiki_nouns_spacy = collect_nouns_spacy(wiki_doc)"
   ]
  },
  {
   "cell_type": "code",
   "execution_count": 42,
   "metadata": {},
   "outputs": [
    {
     "name": "stdout",
     "output_type": "stream",
     "text": [
      "796\n"
     ]
    },
    {
     "data": {
      "text/plain": [
       "['prey',\n",
       " 'door',\n",
       " 'helmet',\n",
       " 'swordsman',\n",
       " 'statesman',\n",
       " 'dawn',\n",
       " 'action',\n",
       " 'leather',\n",
       " 'way',\n",
       " 'valley',\n",
       " 'rushing',\n",
       " 'housetop',\n",
       " 'youth',\n",
       " 'vampire',\n",
       " 'goblet',\n",
       " 'garment',\n",
       " 'panel',\n",
       " 'name',\n",
       " 'plate',\n",
       " 'impatience']"
      ]
     },
     "execution_count": 42,
     "metadata": {},
     "output_type": "execute_result"
    }
   ],
   "source": [
    "print(len(fiction_nouns_spacy))\n",
    "list(fiction_nouns_spacy)[:20]"
   ]
  },
  {
   "cell_type": "markdown",
   "metadata": {},
   "source": [
    "Check the common and the different elements in the noun sets."
   ]
  },
  {
   "cell_type": "code",
   "execution_count": 58,
   "metadata": {},
   "outputs": [],
   "source": [
    "fiction_nouns_intersection = list(fiction_nouns_nltk & fiction_nouns_spacy)\n"
   ]
  },
  {
   "cell_type": "code",
   "execution_count": 59,
   "metadata": {},
   "outputs": [],
   "source": [
    "fiction_nouns_diff = list(fiction_nouns_nltk.difference(fiction_nouns_spacy))\n"
   ]
  },
  {
   "cell_type": "code",
   "execution_count": 60,
   "metadata": {},
   "outputs": [
    {
     "name": "stdout",
     "output_type": "stream",
     "text": [
      "714\n"
     ]
    },
    {
     "data": {
      "text/plain": [
       "['door',\n",
       " 'helmet',\n",
       " 'swordsman',\n",
       " 'statesman',\n",
       " 'dawn',\n",
       " 'action',\n",
       " 'leather',\n",
       " 'valley',\n",
       " 'way',\n",
       " 'rushing',\n",
       " 'housetop',\n",
       " 'youth',\n",
       " 'vampire',\n",
       " 'goblet',\n",
       " 'garment',\n",
       " 'panel',\n",
       " 'name',\n",
       " 'impatience',\n",
       " 'silver',\n",
       " 'finger']"
      ]
     },
     "execution_count": 60,
     "metadata": {},
     "output_type": "execute_result"
    }
   ],
   "source": [
    "print(len(fiction_nouns_intersection))\n",
    "fiction_nouns_intersection[:20]"
   ]
  },
  {
   "cell_type": "code",
   "execution_count": 61,
   "metadata": {},
   "outputs": [
    {
     "name": "stdout",
     "output_type": "stream",
     "text": [
      "322\n"
     ]
    },
    {
     "data": {
      "text/plain": [
       "['kings',\n",
       " 'smooth',\n",
       " 'whole',\n",
       " 'prospero',\n",
       " 'blind',\n",
       " 'assail—thanks',\n",
       " 'volmana',\n",
       " 'see',\n",
       " 'high-priests',\n",
       " 'go',\n",
       " 'atlantis',\n",
       " 'undreamed',\n",
       " 'shadowy',\n",
       " 'gigantic',\n",
       " 'unseen',\n",
       " 'king—if',\n",
       " 'melting',\n",
       " 'karaban',\n",
       " 'thune',\n",
       " 'stygia']"
      ]
     },
     "execution_count": 61,
     "metadata": {},
     "output_type": "execute_result"
    }
   ],
   "source": [
    "print(len(fiction_nouns_diff))\n",
    "fiction_nouns_diff[:20]"
   ]
  },
  {
   "cell_type": "markdown",
   "metadata": {},
   "source": [
    "Finaly unite the noun sets from the two models."
   ]
  },
  {
   "cell_type": "code",
   "execution_count": 47,
   "metadata": {},
   "outputs": [],
   "source": [
    "fiction_nouns_all = list(fiction_nouns_nltk | fiction_nouns_spacy)\n",
    "media_nouns_all = list(media_nouns_nltk | media_nouns_spacy)\n",
    "wiki_nouns_all = list(wiki_nouns_nltk | wiki_nouns_spacy)\n"
   ]
  },
  {
   "cell_type": "code",
   "execution_count": 48,
   "metadata": {},
   "outputs": [
    {
     "data": {
      "text/plain": [
       "['door',\n",
       " 'blind',\n",
       " 'dawn',\n",
       " 'assail—thanks',\n",
       " 'action',\n",
       " 'way',\n",
       " 'valley',\n",
       " 'volmana',\n",
       " 'youth',\n",
       " 'panel',\n",
       " 'goblet',\n",
       " 'name',\n",
       " 'go',\n",
       " 'undreamed',\n",
       " 'shadowy',\n",
       " 'gigantic',\n",
       " 'plate',\n",
       " 'king—if',\n",
       " 'silver',\n",
       " 'finger']"
      ]
     },
     "execution_count": 48,
     "metadata": {},
     "output_type": "execute_result"
    }
   ],
   "source": [
    "fiction_nouns_all[:20]"
   ]
  },
  {
   "cell_type": "markdown",
   "metadata": {},
   "source": [
    "Use the same predicate set as the extraction:"
   ]
  },
  {
   "cell_type": "code",
   "execution_count": 49,
   "metadata": {},
   "outputs": [],
   "source": [
    "predicates = ['is', 'have', 'can']"
   ]
  },
  {
   "cell_type": "markdown",
   "metadata": {},
   "source": [
    "Generative function. Make sure that one noun is not simultaneously subject and object."
   ]
  },
  {
   "cell_type": "code",
   "execution_count": 50,
   "metadata": {},
   "outputs": [],
   "source": [
    "def generate_triples(nouns, predicates):\n",
    "    triples = []\n",
    "    for subj in nouns:\n",
    "        for predicate in predicates:\n",
    "            for obj in nouns:\n",
    "                if subj != obj:\n",
    "                    triple = f\"{subj} {predicate} {obj}\"\n",
    "                    triples.append(triple)\n",
    "    return triples"
   ]
  },
  {
   "cell_type": "code",
   "execution_count": 51,
   "metadata": {},
   "outputs": [],
   "source": [
    "fiction_generated_triples = generate_triples(fiction_nouns_all, predicates)\n",
    "media_generated_triples = generate_triples(media_nouns_all, predicates)\n",
    "wiki_generated_triples = generate_triples(wiki_nouns_all, predicates)"
   ]
  },
  {
   "cell_type": "code",
   "execution_count": 52,
   "metadata": {},
   "outputs": [
    {
     "name": "stdout",
     "output_type": "stream",
     "text": [
      "5382780\n"
     ]
    },
    {
     "data": {
      "text/plain": [
       "[\"planet' is ng\",\n",
       " \"planet' is taiwan\",\n",
       " \"planet' is monday\",\n",
       " \"planet' is covid-19\",\n",
       " \"planet' is cold\",\n",
       " \"planet' is environment\",\n",
       " \"planet' is breach\",\n",
       " \"planet' is garissa\",\n",
       " \"planet' is action\",\n",
       " \"planet' is way\",\n",
       " \"planet' is pakain\",\n",
       " \"planet' is news\",\n",
       " \"planet' is brazil\",\n",
       " \"planet' is controller\",\n",
       " \"planet' is iran\",\n",
       " \"planet' is fixture\",\n",
       " \"planet' is panel\",\n",
       " \"planet' is france\",\n",
       " \"planet' is footage\",\n",
       " \"planet' is technology\"]"
      ]
     },
     "execution_count": 52,
     "metadata": {},
     "output_type": "execute_result"
    }
   ],
   "source": [
    "print(len(media_generated_triples))\n",
    "media_generated_triples[:20]"
   ]
  },
  {
   "cell_type": "markdown",
   "metadata": {},
   "source": [
    "The triple lists are slow and with millions of elements. Save them as turtle files."
   ]
  },
  {
   "cell_type": "code",
   "execution_count": 53,
   "metadata": {},
   "outputs": [],
   "source": [
    "def save_triples(triples, file_name):\n",
    "    with open(f'results/{file_name}.ttl', 'w') as output_file:\n",
    "        for triple in triples:\n",
    "            output_file.write(f'{triple} .\\n')\n"
   ]
  },
  {
   "cell_type": "markdown",
   "metadata": {},
   "source": [
    "Do it the first time. After that the files can be loaded."
   ]
  },
  {
   "cell_type": "code",
   "execution_count": 54,
   "metadata": {},
   "outputs": [],
   "source": [
    "# save_triples(fiction_generated_triples, 'fiction_triples')\n",
    "# save_triples(media_generated_triples, 'media_triples')\n",
    "# save_triples(wiki_generated_triples, 'wiki_triples')"
   ]
  },
  {
   "cell_type": "markdown",
   "metadata": {},
   "source": [
    "Lets also save the extracted triples as turtle files."
   ]
  },
  {
   "cell_type": "code",
   "execution_count": 55,
   "metadata": {},
   "outputs": [],
   "source": [
    "# save_triples(fiction_triples_nltk, 'fiction_triples_extracted_nltk')\n",
    "# save_triples(fiction_triples_spacy, 'fiction_triples_extracted_spacy')"
   ]
  },
  {
   "cell_type": "code",
   "execution_count": 56,
   "metadata": {},
   "outputs": [],
   "source": [
    "# save_triples(media_triples_nltk, 'media_triples_extracted_nltk')\n",
    "# save_triples(media_triples_spacy, 'media_triples_extracted_spacy')"
   ]
  },
  {
   "cell_type": "code",
   "execution_count": 57,
   "metadata": {},
   "outputs": [],
   "source": [
    "# save_triples(wiki_triples_nltk, 'wiki_triples_extracted_nltk')\n",
    "# save_triples(wiki_triples_spacy, 'wiki_triples_extracted_spacy')"
   ]
  },
  {
   "cell_type": "markdown",
   "metadata": {},
   "source": [
    "## Graph Representation"
   ]
  },
  {
   "cell_type": "markdown",
   "metadata": {},
   "source": [
    "The turtle files are considered RDF graphs, but they are not easily readable. Lets try to visualize them.\n",
    "\n",
    "First create a small sample for representation (manually curated)."
   ]
  },
  {
   "cell_type": "code",
   "execution_count": 104,
   "metadata": {},
   "outputs": [],
   "source": [
    "example_triples = ['shell are bone .', 'surface is scale .', 'turtle are reptile .', 'hedgehog is mammal .', 'cockatoo is parrot .', 'plumage is colourful .', 'cattle are livestock .', 'point can build-up .']"
   ]
  },
  {
   "cell_type": "markdown",
   "metadata": {},
   "source": [
    "In this example, each triple is split into its subject, predicate, and object components. Then the NetworkX library is used to to create a directed graph and nodes for subjects and objects and edges between are added. Finally some visualization parameters are adjusted."
   ]
  },
  {
   "cell_type": "code",
   "execution_count": 110,
   "metadata": {},
   "outputs": [
    {
     "data": {
      "image/png": "[encoded data removed]",
      "text/plain": [
       "<Figure size 1200x800 with 1 Axes>"
      ]
     },
     "metadata": {},
     "output_type": "display_data"
    }
   ],
   "source": [
    "GRAPH = nx.DiGraph()\n",
    "\n",
    "for triple in example_triples:\n",
    "    parts = triple.split(' ')\n",
    "    subject = parts[0]\n",
    "    predicate = parts[1]\n",
    "    object = parts[2]\n",
    "    \n",
    "    GRAPH.add_node(subject)\n",
    "    GRAPH.add_node(object)\n",
    "    GRAPH.add_edge(subject, object, label=predicate)\n",
    "\n",
    "plt.figure(figsize=(12, 8))\n",
    "pos = nx.spring_layout(GRAPH, seed=42, k=0.5)\n",
    "labels = nx.get_edge_attributes(GRAPH, 'label')\n",
    "nx.draw(GRAPH, pos, with_labels=True, node_size=2000, font_size=9)\n",
    "nx.draw_networkx_edge_labels(GRAPH, pos, edge_labels=labels)\n",
    "plt.show()"
   ]
  },
  {
   "cell_type": "markdown",
   "metadata": {},
   "source": [
    "## Conclusion\n",
    "\n",
    "The aim of this notebook is to test the hypothesis that it is possible to extract real live knowledge from real live text documents i nte form of RDF triples. Such extraction is possible and produces decent statements, but also leads to some challenges.\n",
    "\n",
    "There is need for triple validation. Manual or automated process of filtering \"wrong\" triples. How to define such triples and how deal with them - editing or deletion? At the moment they are validated manually. It will be interesting to calculate the percentage of valid against invalid triples. \n",
    "\n",
    "Categorization of produced triples: good example - \"hedgehog is mammal\"; interesting example - \"specie are extinction\"; bad example - \"world are result\". The interesting examples capture some real life knowledge, but skewed. Compare \"specie are extinction\" to \"specie can_be extinct\" or \"specie is extinct\". The bad examples are just untrue.\n",
    "\n",
    "The initial set of predicates both for extraction and for generation is extremely basic. Determining the members of the set is problematic on it's own. For future experiments it will be beneficial to check the most commonly used RDF schemas.\n",
    "\n",
    "In this first implementation the generator function encompass every triple case and is overgenerating. The logic for generation needs refinement, more rules and/or inclusion of validation before saving the results.\n",
    "\n",
    "As expected the encyclopedic text produces the most triples and the fiction text is the least productive. That does not mean that fiction text do not produce any triples. The three tested documents produced valid statements.\n"
   ]
  },
  {
   "cell_type": "markdown",
   "metadata": {},
   "source": [
    "## References\n",
    "\n",
    "1. [RDF](https://www.w3.org/RDF/)\n",
    "2. [RDF Primer](https://www.w3.org/TR/2014/NOTE-rdf11-primer-20140624/)\n",
    "3. [RDF Triples](https://www.w3.org/TR/rdf12-n-triples/)\n",
    "4. [Turtle Format](https://www.w3.org/TR/rdf12-turtle/)\n",
    "4. [Declarative RDF graph generation](https://www.sciencedirect.com/science/article/pii/S1570826822000373)\n",
    "5. [Entity extraction: From unstructured text to DBpedia RDF triples](https://lucris.lub.lu.se/ws/portalfiles/portal/3053000/3191702.pdf)\n",
    "6. [FactCheck: Validating RDF Triples Using Textual Evidence](https://svn.aksw.org/papers/2018/CIKM_FACTCHECK/public.pdf)\n",
    "7. [Harvesting RDF triples](https://citeseerx.ist.psu.edu/document?repid=rep1&type=pdf&doi=05620dd4b5346e5c17f3f4da97efcb18e2fcb7e6)\n",
    "8. [Knowledge Graphs](https://arxiv.org/pdf/2003.02320.pdf)\n",
    "8. [NLTK](https://www.nltk.org/)\n",
    "9. [Install spaCy](https://spacy.io/usage)\n",
    "10. [NLP with spaCy](http://spacy.pythonhumanities.com/intro.html)\n"
   ]
  }
 ],
 "metadata": {
  "kernelspec": {
   "display_name": "base",
   "language": "python",
   "name": "python3"
  },
  "language_info": {
   "codemirror_mode": {
    "name": "ipython",
    "version": 3
   },
   "file_extension": ".py",
   "mimetype": "text/x-python",
   "name": "python",
   "nbconvert_exporter": "python",
   "pygments_lexer": "ipython3",
   "version": "3.9.13"
  },
  "orig_nbformat": 4
 },
 "nbformat": 4,
 "nbformat_minor": 2
}
